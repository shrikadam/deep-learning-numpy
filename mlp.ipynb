{
 "cells": [
  {
   "cell_type": "markdown",
   "metadata": {},
   "source": [
    "We begin by importing necessory libraries, viz. **Numpy** for matrix operations, **Sklearn** for accessign ready-made datasets and ML algorithms and **Matplotlib** for visualizing data."
   ]
  },
  {
   "cell_type": "code",
   "execution_count": null,
   "metadata": {},
   "outputs": [],
   "source": [
    "import numpy as np\n",
    "from sklearn.datasets import make_moons\n",
    "import matplotlib.pyplot as plt"
   ]
  },
  {
   "cell_type": "code",
   "execution_count": null,
   "metadata": {},
   "outputs": [],
   "source": [
    "np.random.seed(0)\n",
    "X, y = make_moons(200, noise=0.2)\n",
    "plt.figure(figsize = (20,12))\n",
    "plt.scatter(X[:,0], X[:,1], s=80, c=y, cmap=plt.cm.Spectral)"
   ]
  },
  {
   "cell_type": "code",
   "execution_count": null,
   "metadata": {},
   "outputs": [],
   "source": [
    "from sklearn.linear_model import LogisticRegression\n",
    "clf = LogisticRegression()\n",
    "clf.fit(X, y)"
   ]
  },
  {
   "cell_type": "code",
   "execution_count": null,
   "metadata": {},
   "outputs": [],
   "source": [
    "X1min, X1max = X[:,0].min()-0.5, X[:,0].max()+0.5\n",
    "X2min, X2max = X[:,1].min()-0.5, X[:,1].max()+0.5\n",
    "X1grid = np.arange(X1min, X1max, 0.01)\n",
    "X2grid = np.arange(X2min, X2max, 0.01)\n",
    "xx1, xx2 = np.meshgrid(X1grid, X2grid)\n",
    "r1, r2 = xx1.flatten(), xx2.flatten()\n",
    "r1, r2 = r1.reshape((len(r1), 1)), r2.reshape((len(r2), 1))\n",
    "grid = np.hstack((r1,r2))\n",
    "yhat = clf.predict(grid)\n",
    "yy = yhat.reshape(xx1.shape)\n",
    "plt.figure(figsize = (20,12))\n",
    "plt.contourf(xx1, xx2, yy, cmap='Paired')\n",
    "for y_ in range(2):\n",
    "    ix = np.where(y == y_)\n",
    "    plt.scatter(X[ix, 0], X[ix, 1], s=80, cmap='Paired')"
   ]
  },
  {
   "cell_type": "code",
   "execution_count": null,
   "metadata": {},
   "outputs": [],
   "source": [
    "m = len(X)\n",
    "ni = 2\n",
    "no = 1\n",
    "lr = 0.01\n",
    "lmbda = 0.01 "
   ]
  },
  {
   "cell_type": "code",
   "execution_count": null,
   "metadata": {},
   "outputs": [],
   "source": [
    "def predict(model, X):\n",
    "    W1, b1, W2, b2 = model['W1'], model['b1'], model['W2'], model['b2']\n",
    "    Z1 = W1.dot(X) + b1\n",
    "    A1 = np.maximum(0, Z1)\n",
    "    Z2 = W2.dot(A1) + b2\n",
    "    A2 = 1/(1+np.exp(-1*Z2))\n",
    "    return np.rint(A2)"
   ]
  },
  {
   "cell_type": "code",
   "execution_count": null,
   "metadata": {},
   "outputs": [],
   "source": [
    "def cost(model, X, y):\n",
    "    W1, b1, W2, b2 = model['W1'], model['b1'], model['W2'], model['b2']\n",
    "    Z1 = W1.dot(X) + b1\n",
    "    A1 = np.maximum(0, Z1)\n",
    "    Z2 = W2.dot(A1) + b2\n",
    "    A2 = 1/(1+np.exp(-1*Z2))\n",
    "    logprobs = np.multiply(np.log(A2), y) + np.multiply((1 - y), np.log(1 - A2))\n",
    "    cost = -np.sum(logprobs)\n",
    "    cost += lmbda/2 * (np.sum(np.square(W1)) + np.sum(np.square(W2))) #L2 Regularization\n",
    "    \n",
    "    return cost/m"
   ]
  },
  {
   "cell_type": "code",
   "execution_count": null,
   "metadata": {},
   "outputs": [],
   "source": [
    "def nnmodel(X, y, nh, ne=20000, print_loss=False):\n",
    "    \n",
    "    np.random.seed(0)\n",
    "    W1 = np.random.randn(nh, ni)*0.01\n",
    "    b1 = np.zeros((nh, 1))\n",
    "    W2 = np.random.randn(no, nh)*0.01\n",
    "    b2 = np.zeros((no, 1))\n",
    "    \n",
    "    model = {}\n",
    "    \n",
    "    for i in range(0, ne+1):\n",
    "        \n",
    "        Z1 = W1.dot(X) + b1\n",
    "        A1 = np.maximum(0, Z1)\n",
    "        Z2 = W2.dot(A1) + b2\n",
    "        A2 = 1/(1+np.exp(-1*Z2))\n",
    "        \n",
    "        dZ2 = A2 - y\n",
    "        dW2 = (dZ2).dot(A1.T)\n",
    "        db2 = np.sum(dZ2)\n",
    "        dZ1 = ((W2.T).dot(dZ2))*np.where(Z1>0, 1, 0)\n",
    "        dW1 = (dZ1).dot(X.T)\n",
    "        db1 = np.sum(dZ1)\n",
    "        \n",
    "        dW2 += lmbda*W2\n",
    "        dW1 += lmbda*W1\n",
    "        \n",
    "        dW1 /= m\n",
    "        dW2 /= m\n",
    "        db1 /= m\n",
    "        db2 /= m\n",
    "        \n",
    "        W1 += -lr * dW1\n",
    "        b1 += -lr * db1\n",
    "        W2 += -lr * dW2\n",
    "        b2 += -lr * db2\n",
    "        \n",
    "        model = {'W1': W1, 'b1': b1, 'W2': W2, 'b2': b2}\n",
    "        \n",
    "        if print_loss and i % 1000 == 0:\n",
    "            print('Epoch: {} \\tLoss: {:.6f}'.format(i, cost(model, X, y)))\n",
    "            \n",
    "    return model"
   ]
  },
  {
   "cell_type": "code",
   "execution_count": null,
   "metadata": {},
   "outputs": [],
   "source": [
    "ynn = y.reshape(1, m)\n",
    "Xnn = X.T"
   ]
  },
  {
   "cell_type": "code",
   "execution_count": null,
   "metadata": {},
   "outputs": [],
   "source": [
    "model = nnmodel(Xnn, ynn, nh=4, print_loss=True)"
   ]
  },
  {
   "cell_type": "code",
   "execution_count": null,
   "metadata": {},
   "outputs": [],
   "source": [
    "X1min, X1max = X[:,0].min()-0.5, X[:,0].max()+0.5\n",
    "X2min, X2max = X[:,1].min()-0.5, X[:,1].max()+0.5\n",
    "X1grid = np.arange(X1min, X1max, 0.01)\n",
    "X2grid = np.arange(X2min, X2max, 0.01)\n",
    "xx1, xx2 = np.meshgrid(X1grid, X2grid)\n",
    "r1, r2 = xx1.flatten(), xx2.flatten()\n",
    "r1, r2 = r1.reshape((len(r1), 1)), r2.reshape((len(r2), 1))\n",
    "grid = np.hstack((r1,r2))\n",
    "yhat = predict(model, grid.T).reshape((len(r2)))\n",
    "yy = yhat.reshape(xx1.shape)\n",
    "print(yy)\n",
    "plt.figure(figsize = (20,12))\n",
    "plt.contourf(xx1, xx2, yy, cmap='Paired')\n",
    "for y_ in range(2):\n",
    "    ix = np.where(y == y_)\n",
    "    plt.scatter(X[ix, 0], X[ix, 1], s=80, cmap='Paired')"
   ]
  }
 ],
 "metadata": {
  "hide_input": false,
  "kernelspec": {
   "display_name": "Python 3.7.7 64-bit ('venv': conda)",
   "language": "python",
   "name": "python37764bitvenvconda1175fc2705b043cba354bdb226332f11"
  },
  "language_info": {
   "codemirror_mode": {
    "name": "ipython",
    "version": 3
   },
   "file_extension": ".py",
   "mimetype": "text/x-python",
   "name": "python",
   "nbconvert_exporter": "python",
   "pygments_lexer": "ipython3",
   "version": "3.7.7"
  }
 },
 "nbformat": 4,
 "nbformat_minor": 4
}
